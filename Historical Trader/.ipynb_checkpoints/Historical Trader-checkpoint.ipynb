{
 "cells": [
  {
   "cell_type": "code",
   "execution_count": 1,
   "metadata": {},
   "outputs": [
    {
     "ename": "ModuleNotFoundError",
     "evalue": "No module named 'CryptoHelper'",
     "output_type": "error",
     "traceback": [
      "\u001b[0;31m---------------------------------------------------------------------------\u001b[0m",
      "\u001b[0;31mModuleNotFoundError\u001b[0m                       Traceback (most recent call last)",
      "\u001b[0;32m<ipython-input-1-5c2852b33387>\u001b[0m in \u001b[0;36m<module>\u001b[0;34m\u001b[0m\n\u001b[1;32m      3\u001b[0m \u001b[0;32mimport\u001b[0m \u001b[0mpandas\u001b[0m \u001b[0;32mas\u001b[0m \u001b[0mpd\u001b[0m\u001b[0;34m\u001b[0m\u001b[0;34m\u001b[0m\u001b[0m\n\u001b[1;32m      4\u001b[0m \u001b[0;32mimport\u001b[0m \u001b[0mcsv\u001b[0m\u001b[0;34m\u001b[0m\u001b[0;34m\u001b[0m\u001b[0m\n\u001b[0;32m----> 5\u001b[0;31m \u001b[0;32mimport\u001b[0m \u001b[0mCryptoHelper\u001b[0m \u001b[0;32mas\u001b[0m \u001b[0mCH\u001b[0m\u001b[0;34m\u001b[0m\u001b[0;34m\u001b[0m\u001b[0m\n\u001b[0m",
      "\u001b[0;31mModuleNotFoundError\u001b[0m: No module named 'CryptoHelper'"
     ]
    }
   ],
   "source": [
    "import krakenex\n",
    "import time\n",
    "import pandas as pd\n",
    "import csv\n",
    "import CryptoHelper as CH"
   ]
  },
  {
   "cell_type": "code",
   "execution_count": null,
   "metadata": {},
   "outputs": [],
   "source": [
    "df = pd.read_csv(\"datasets/Kraken_ETHBTC_1h.csv\", index_col=False)\n",
    "df.head()"
   ]
  },
  {
   "cell_type": "code",
   "execution_count": null,
   "metadata": {},
   "outputs": [],
   "source": [
    "df.set_index(\"Date\")"
   ]
  },
  {
   "cell_type": "code",
   "execution_count": null,
   "metadata": {},
   "outputs": [],
   "source": [
    "df = df.drop([\"High\", \"Low\", \"Volume ETH\", \"Volume BTC\"], axis=1)"
   ]
  },
  {
   "cell_type": "code",
   "execution_count": null,
   "metadata": {},
   "outputs": [],
   "source": [
    "df.reset_index(drop=True, inplace=True)"
   ]
  },
  {
   "cell_type": "code",
   "execution_count": null,
   "metadata": {},
   "outputs": [],
   "source": [
    "df.head()"
   ]
  },
  {
   "cell_type": "code",
   "execution_count": null,
   "metadata": {},
   "outputs": [],
   "source": [
    "k = CH.login()"
   ]
  },
  {
   "cell_type": "code",
   "execution_count": null,
   "metadata": {},
   "outputs": [],
   "source": [
    "CH.get_balance(k)"
   ]
  },
  {
   "cell_type": "code",
   "execution_count": null,
   "metadata": {},
   "outputs": [],
   "source": [
    "def tradeBot(marginToSeek, stopLoss, startingBTC):\n",
    "    currentBTC = startingBTC\n",
    "    currentETH = 0\n",
    "    record_transaction(currentBTC, \"BTC\", \"start\", currentBTC, currentETH)\n",
    "    for i in range(0, len(df.index)):\n",
    "        lastValue = 0\n",
    "        if (currentBTC > 0):\n",
    "            #Buy Max ETH\n",
    "            max_ETH = currentBTC / df.iloc[i,3]\n",
    "            currentBTC = currentBTC-currentBTC\n",
    "            currentETH = currentETH + max_ETH\n",
    "            record_transaction(max_ETH, \"ETH\",\"buy\", currentBTC, currentETH)\n",
    "        else:\n",
    "            currentBTCVal = currentETH * df.iloc[i,3]\n",
    "            targetBTCVal = lastValue*marginToSeek\n",
    "            if(currentBTCVal > targetBTCVal):\n",
    "                max_BTC = currentETH * df.iloc[i,3]\n",
    "                currentBTC = currentBTC + max_BTC\n",
    "                record_transaction(currentETH, \"ETH\", \"sell\", currentBTC, currentETH - currentETH)\n",
    "                currentETH = currentETH - currentETH\n",
    "                lastValue = targetBTCVal"
   ]
  },
  {
   "cell_type": "code",
   "execution_count": null,
   "metadata": {},
   "outputs": [],
   "source": [
    "def record_transaction(amount, coin, action, btcBal, ethBal):\n",
    "    with open('transactions.csv', mode='a') as transactionFile:\n",
    "        transactionFile = csv.writer(transactionFile, delimiter=',', quotechar='\"', quoting=csv.QUOTE_MINIMAL)\n",
    "        transactionFile.writerow([amount, coin, action, btcBal, ethBal])\n"
   ]
  },
  {
   "cell_type": "code",
   "execution_count": null,
   "metadata": {},
   "outputs": [],
   "source": [
    "tradeBot(1.02,0,0.5)"
   ]
  },
  {
   "cell_type": "code",
   "execution_count": null,
   "metadata": {},
   "outputs": [],
   "source": []
  }
 ],
 "metadata": {
  "kernelspec": {
   "display_name": "CryptoTrader",
   "language": "python",
   "name": "cryptotrader"
  },
  "language_info": {
   "codemirror_mode": {
    "name": "ipython",
    "version": 3
   },
   "file_extension": ".py",
   "mimetype": "text/x-python",
   "name": "python",
   "nbconvert_exporter": "python",
   "pygments_lexer": "ipython3",
   "version": "3.7.2"
  }
 },
 "nbformat": 4,
 "nbformat_minor": 2
}
